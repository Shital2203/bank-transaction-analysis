import pandas as pd
import numpy as np
import random
from datetime import datetime, timedelta
import os

# Set seed for reproducibility
np.random.seed(42)

# Fake categories
categories = ["Groceries", "Restaurants", "Utilities", "Transport", "Entertainment", "Shopping", "Healthcare", "Rent"]

# Generate dates
start_date = datetime(2024, 1, 1)
end_date = datetime(2024, 12, 31)
dates = [start_date + timedelta(days=random.randint(0, 364)) for _ in range(500)]

# Generate dataset
data = {
    "TransactionID": range(1, 501),
    "Date": dates,
    "Amount": np.random.normal(2000, 1000, 500).round(2),  # normal spending
    "Category": [random.choice(categories) for _ in range(500)]
}

df = pd.DataFrame(data)

# Introduce anomalies (unusually high transactions)
anomalies_idx = np.random.choice(df.index, 5, replace=False)
df.loc[anomalies_idx, "Amount"] = df.loc[anomalies_idx, "Amount"] * 5

# Create the directory if it doesn't exist
if not os.path.exists('data'):
    os.makedirs('data')

# Save to CSV
df.to_csv("data/transactions.csv", index=False)
print("Fake bank transaction data saved!")
